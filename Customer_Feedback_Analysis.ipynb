{
 "cells": [
  {
   "cell_type": "code",
   "execution_count": 16,
   "id": "d924f4bd-b852-45f2-bc61-d522212e32b5",
   "metadata": {},
   "outputs": [
    {
     "name": "stdout",
     "output_type": "stream",
     "text": [
      "imported successfully\n"
     ]
    }
   ],
   "source": [
    "import pandas as pd\n",
    "import xlsxwriter as xls\n",
    "\n",
    "print (\"imported successfully\")"
   ]
  },
  {
   "cell_type": "markdown",
   "id": "ffe10473-700c-4231-b7c2-b1853fab4d32",
   "metadata": {},
   "source": [
    "Load Dataset"
   ]
  },
  {
   "cell_type": "code",
   "execution_count": 27,
   "id": "8a332b13-0642-45ac-8ca2-54a69ce123e6",
   "metadata": {},
   "outputs": [
    {
     "data": {
      "text/html": [
       "<div>\n",
       "<style scoped>\n",
       "    .dataframe tbody tr th:only-of-type {\n",
       "        vertical-align: middle;\n",
       "    }\n",
       "\n",
       "    .dataframe tbody tr th {\n",
       "        vertical-align: top;\n",
       "    }\n",
       "\n",
       "    .dataframe thead th {\n",
       "        text-align: right;\n",
       "    }\n",
       "</style>\n",
       "<table border=\"1\" class=\"dataframe\">\n",
       "  <thead>\n",
       "    <tr style=\"text-align: right;\">\n",
       "      <th></th>\n",
       "      <th>Date</th>\n",
       "      <th>Customer ID</th>\n",
       "      <th>Region</th>\n",
       "      <th>Product</th>\n",
       "      <th>Support Rating</th>\n",
       "      <th>Product Rating</th>\n",
       "      <th>Comments</th>\n",
       "    </tr>\n",
       "  </thead>\n",
       "  <tbody>\n",
       "    <tr>\n",
       "      <th>0</th>\n",
       "      <td>2024-01-05</td>\n",
       "      <td>CUST001</td>\n",
       "      <td>North</td>\n",
       "      <td>Software A</td>\n",
       "      <td>4</td>\n",
       "      <td>5</td>\n",
       "      <td>Quick resolution</td>\n",
       "    </tr>\n",
       "    <tr>\n",
       "      <th>1</th>\n",
       "      <td>2024-01-07</td>\n",
       "      <td>CUST002</td>\n",
       "      <td>South</td>\n",
       "      <td>Software B</td>\n",
       "      <td>3</td>\n",
       "      <td>4</td>\n",
       "      <td>Some bugs found</td>\n",
       "    </tr>\n",
       "    <tr>\n",
       "      <th>2</th>\n",
       "      <td>2024-01-09</td>\n",
       "      <td>CUST003</td>\n",
       "      <td>East</td>\n",
       "      <td>Software C</td>\n",
       "      <td>5</td>\n",
       "      <td>5</td>\n",
       "      <td>Very satisfied</td>\n",
       "    </tr>\n",
       "    <tr>\n",
       "      <th>3</th>\n",
       "      <td>2024-02-01</td>\n",
       "      <td>CUST004</td>\n",
       "      <td>North</td>\n",
       "      <td>Software A</td>\n",
       "      <td>4</td>\n",
       "      <td>4</td>\n",
       "      <td>Support was helpful</td>\n",
       "    </tr>\n",
       "    <tr>\n",
       "      <th>4</th>\n",
       "      <td>2024-02-10</td>\n",
       "      <td>CUST005</td>\n",
       "      <td>South</td>\n",
       "      <td>Software B</td>\n",
       "      <td>2</td>\n",
       "      <td>3</td>\n",
       "      <td>Could be improved</td>\n",
       "    </tr>\n",
       "  </tbody>\n",
       "</table>\n",
       "</div>"
      ],
      "text/plain": [
       "         Date Customer ID Region     Product  Support Rating  Product Rating  \\\n",
       "0  2024-01-05     CUST001  North  Software A               4               5   \n",
       "1  2024-01-07     CUST002  South  Software B               3               4   \n",
       "2  2024-01-09     CUST003   East  Software C               5               5   \n",
       "3  2024-02-01     CUST004  North  Software A               4               4   \n",
       "4  2024-02-10     CUST005  South  Software B               2               3   \n",
       "\n",
       "              Comments  \n",
       "0     Quick resolution  \n",
       "1      Some bugs found  \n",
       "2       Very satisfied  \n",
       "3  Support was helpful  \n",
       "4    Could be improved  "
      ]
     },
     "execution_count": 27,
     "metadata": {},
     "output_type": "execute_result"
    }
   ],
   "source": [
    "# load csv file\n",
    "customer_data = pd.read_csv('customer_feedback_scores.csv')\n",
    "customer_data.head()"
   ]
  },
  {
   "cell_type": "markdown",
   "id": "0033450a-b844-4535-aeb5-cb55c1cd2335",
   "metadata": {},
   "source": [
    "Find The Average Rating Of Support Rating And Product Rating"
   ]
  },
  {
   "cell_type": "code",
   "execution_count": 28,
   "id": "9790810d-ec98-4c29-b293-923fc4c15854",
   "metadata": {},
   "outputs": [
    {
     "data": {
      "text/html": [
       "<div>\n",
       "<style scoped>\n",
       "    .dataframe tbody tr th:only-of-type {\n",
       "        vertical-align: middle;\n",
       "    }\n",
       "\n",
       "    .dataframe tbody tr th {\n",
       "        vertical-align: top;\n",
       "    }\n",
       "\n",
       "    .dataframe thead th {\n",
       "        text-align: right;\n",
       "    }\n",
       "</style>\n",
       "<table border=\"1\" class=\"dataframe\">\n",
       "  <thead>\n",
       "    <tr style=\"text-align: right;\">\n",
       "      <th></th>\n",
       "      <th>Product</th>\n",
       "      <th>Support Rating</th>\n",
       "      <th>Product Rating</th>\n",
       "    </tr>\n",
       "  </thead>\n",
       "  <tbody>\n",
       "    <tr>\n",
       "      <th>0</th>\n",
       "      <td>Software A</td>\n",
       "      <td>4.0</td>\n",
       "      <td>4.6</td>\n",
       "    </tr>\n",
       "    <tr>\n",
       "      <th>1</th>\n",
       "      <td>Software B</td>\n",
       "      <td>3.0</td>\n",
       "      <td>3.6</td>\n",
       "    </tr>\n",
       "    <tr>\n",
       "      <th>2</th>\n",
       "      <td>Software C</td>\n",
       "      <td>4.8</td>\n",
       "      <td>4.6</td>\n",
       "    </tr>\n",
       "  </tbody>\n",
       "</table>\n",
       "</div>"
      ],
      "text/plain": [
       "      Product  Support Rating  Product Rating\n",
       "0  Software A             4.0             4.6\n",
       "1  Software B             3.0             3.6\n",
       "2  Software C             4.8             4.6"
      ]
     },
     "execution_count": 28,
     "metadata": {},
     "output_type": "execute_result"
    }
   ],
   "source": [
    "avg_rating=customer_data.groupby('Product')[['Support Rating','Product Rating']].mean().reset_index()\n",
    "avg_rating.head()"
   ]
  },
  {
   "cell_type": "markdown",
   "id": "b19f6d38-887c-477f-a7a4-0f5f4bb21293",
   "metadata": {},
   "source": [
    "Create a New Excel Workbook And Add a Bar Chart"
   ]
  },
  {
   "cell_type": "code",
   "execution_count": 30,
   "id": "6d37d7b0-50f9-4a4b-a21c-482241ee51a0",
   "metadata": {},
   "outputs": [],
   "source": [
    "writer = pd.ExcelWriter(\"Feedback _Summary_with_Bar_Chart.xlsx\",engine=\"xlsxwriter\")"
   ]
  },
  {
   "cell_type": "markdown",
   "id": "e93ee95b-7cc7-4a28-a6fb-97a98d96811d",
   "metadata": {},
   "source": [
    "Commit File to Excel"
   ]
  },
  {
   "cell_type": "code",
   "execution_count": 31,
   "id": "ea376fe5-7709-4b73-aead-df3e2a11a40b",
   "metadata": {},
   "outputs": [],
   "source": [
    "avg_rating.to_excel(writer,sheet_name =\"Feedback_Summary_with_Bar_Chart\",index = False)"
   ]
  },
  {
   "cell_type": "markdown",
   "id": "2f401302-bfe3-442e-a689-15da3fb49fa6",
   "metadata": {},
   "source": [
    "Adding Bar Chart"
   ]
  },
  {
   "cell_type": "code",
   "execution_count": 34,
   "id": "3d8705c0-57c5-4023-b399-c36015b303a5",
   "metadata": {},
   "outputs": [],
   "source": [
    "workbook = writer.book  # Create the workbook object\n",
    "worksheet = writer.sheets[\"Feedback_Summary_with_Bar_Chart\"]  # Create a work book object\n",
    "\n",
    "# Create a Bar Chart\n",
    "chart= workbook.add_chart({\"type\":\"column\"})\n",
    "\n",
    "chart.add_series({\n",
    "    'name':\"Supporting Rating\",\n",
    "    'categories': [\"Feedback_Summary_with_Bar_Chart\",1,0,len(avg_rating),0],\n",
    "\n",
    "    \"values\": [\"Feedback_Summary_with_Bar_Chart\",1,2,len(avg_rating),2],\n",
    "})\n",
    "\n",
    "\n",
    "chart.add_series({\n",
    "    \"name\":\"Product Rating\",\n",
    "    \"categories\":[\"Feedback_Summary_with_Bar_Chart\",1,0,len(avg_rating),0],\n",
    "    \"values\":[\"Feedback_Summary_with_Bar_Chart\",1,2,len(avg_rating),1],\n",
    "})\n",
    "\n",
    "chart.set_title({\"name\":\"Average Customer Rating\"})\n",
    "chart.set_x_axis({\"name\":\"Product\"})\n",
    "chart.set_y_axis({\"name\":\"Average Rating\"})\n",
    "\n",
    "worksheet.insert_chart(\"E1\",chart)\n",
    "writer.close()"
   ]
  },
  {
   "cell_type": "code",
   "execution_count": null,
   "id": "f2799a9f-ef11-41da-918e-d066bb2ad864",
   "metadata": {},
   "outputs": [],
   "source": []
  }
 ],
 "metadata": {
  "kernelspec": {
   "display_name": "Python 3 (ipykernel)",
   "language": "python",
   "name": "python3"
  },
  "language_info": {
   "codemirror_mode": {
    "name": "ipython",
    "version": 3
   },
   "file_extension": ".py",
   "mimetype": "text/x-python",
   "name": "python",
   "nbconvert_exporter": "python",
   "pygments_lexer": "ipython3",
   "version": "3.13.2"
  }
 },
 "nbformat": 4,
 "nbformat_minor": 5
}
